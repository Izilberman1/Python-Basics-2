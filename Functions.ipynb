{
 "cells": [
  {
   "cell_type": "code",
   "execution_count": 2,
   "id": "9210a9ca",
   "metadata": {},
   "outputs": [
    {
     "name": "stdout",
     "output_type": "stream",
     "text": [
      "helllloooo\n"
     ]
    }
   ],
   "source": [
    "def say_hello():\n",
    "    print('helllloooo')\n",
    "    \n",
    "say_hello()"
   ]
  },
  {
   "cell_type": "code",
   "execution_count": 18,
   "id": "42f5b0f6",
   "metadata": {},
   "outputs": [
    {
     "name": "stdout",
     "output_type": "stream",
     "text": [
      "   *   \n",
      "  ***  \n",
      " ***** \n",
      "*******\n",
      "   *   \n",
      "   *   \n",
      "   *   \n",
      "  ***  \n",
      " ***** \n",
      "*******\n",
      "   *   \n",
      "   *   \n",
      "   *   \n",
      "  ***  \n",
      " ***** \n",
      "*******\n",
      "   *   \n",
      "   *   \n",
      "<function show_tree at 0x00000291455E9DC0>\n"
     ]
    }
   ],
   "source": [
    "picture = [\n",
    "    [0,0,0,1,0,0,0],\n",
    "    [0,0,1,1,1,0,0],\n",
    "    [0,1,1,1,1,1,0],\n",
    "    [1,1,1,1,1,1,1],\n",
    "    [0,0,0,1,0,0,0],\n",
    "    [0,0,0,1,0,0,0]\n",
    "]\n",
    "\n",
    "\n",
    "def show_tree():\n",
    "\n",
    "    #1.iterate over picture.\n",
    "    for row in picture:\n",
    "        for pixel in row:\n",
    "            #3. if 1 -> print *\n",
    "            if(pixel == 1):\n",
    "                print('*', end='')\n",
    "            #2. if 0 -> print ''\n",
    "            else:\n",
    "                print(' ', end='')\n",
    "        print('')\n",
    "   \n",
    "show_tree()\n",
    "show_tree()\n",
    "show_tree()\n",
    "print(show_tree)#prints the location in memory of where the\n",
    "#function is stored."
   ]
  },
  {
   "cell_type": "code",
   "execution_count": 7,
   "id": "4f8d659f",
   "metadata": {},
   "outputs": [
    {
     "name": "stdout",
     "output_type": "stream",
     "text": [
      "hellllooooo Itamar 😇\n"
     ]
    }
   ],
   "source": [
    "#Arguments vs Parameters\n",
    "\n",
    "#parameters -> used when we define the function\n",
    "def say_hello(name, emoji):\n",
    "    print(f'hellllooooo {name} {emoji}')\n",
    "\n",
    "#arguments -> used when we call/invoke the function\n",
    "say_hello('Itamar', '😇')"
   ]
  },
  {
   "cell_type": "code",
   "execution_count": 8,
   "id": "9e3f44f8",
   "metadata": {},
   "outputs": [
    {
     "name": "stdout",
     "output_type": "stream",
     "text": [
      "hellllooooo Itamar 😇\n"
     ]
    }
   ],
   "source": [
    "#parameters -> used when we define the function\n",
    "def say_hello(name, emoji):\n",
    "    print(f'hellllooooo {name} {emoji}')\n",
    "\n",
    "#positional arguments -> used when we call/invoke the function the position\n",
    "#matters\n",
    "say_hello('Itamar', '😇')"
   ]
  },
  {
   "cell_type": "code",
   "execution_count": 9,
   "id": "6bfaaba7",
   "metadata": {},
   "outputs": [
    {
     "name": "stdout",
     "output_type": "stream",
     "text": [
      "hellllooooo Itamar 😇\n"
     ]
    }
   ],
   "source": [
    "#parameters -> used when we define the function\n",
    "def say_hello(name, emoji):\n",
    "    print(f'hellllooooo {name} {emoji}')\n",
    "\n",
    "#keyword arguments -> used when we call/invoke the function, tell it explicitly\n",
    "#what they represents. Considered bad practice and causes code to be\n",
    "#more complicated.\n",
    "say_hello(emoji = '😇', name = 'Itamar')"
   ]
  },
  {
   "cell_type": "code",
   "execution_count": 12,
   "id": "e3ad1c57",
   "metadata": {},
   "outputs": [
    {
     "name": "stdout",
     "output_type": "stream",
     "text": [
      "fade to black friends - Metallica\\m/\n"
     ]
    }
   ],
   "source": [
    "#parameters \n",
    "#default parameters\n",
    "def say_hello(name = 'Metallica', emoji = '\\m/'):\n",
    "    print(f'fade to black friends - {name}{emoji}')\n",
    "say_hello()"
   ]
  },
  {
   "cell_type": "code",
   "execution_count": 17,
   "id": "bd99129b",
   "metadata": {},
   "outputs": [
    {
     "name": "stdout",
     "output_type": "stream",
     "text": [
      "None\n"
     ]
    }
   ],
   "source": [
    "def sum(num1 , num2):\n",
    "     num1 + num2 \n",
    "   \n",
    "print(sum(4,5))\n"
   ]
  },
  {
   "cell_type": "code",
   "execution_count": 20,
   "id": "76495d73",
   "metadata": {},
   "outputs": [
    {
     "name": "stdout",
     "output_type": "stream",
     "text": [
      "9\n"
     ]
    }
   ],
   "source": [
    "#a function either modifies something in the program or \n",
    "#returns something.\n",
    "        \n",
    "def sum(num1 , num2):\n",
    "    return num1 + num2  #by adding return it returns the calculation.\n",
    "#a return keyword automatically exists the function.\n",
    "print(sum(4,5))"
   ]
  },
  {
   "cell_type": "code",
   "execution_count": 21,
   "id": "4dd9d062",
   "metadata": {},
   "outputs": [
    {
     "name": "stdout",
     "output_type": "stream",
     "text": [
      "25\n"
     ]
    }
   ],
   "source": [
    "def sum(num1 , num2):\n",
    "    return num1 + num2  \n",
    "\n",
    "total = sum(10, 5)\n",
    "print(sum(10, total))"
   ]
  },
  {
   "cell_type": "code",
   "execution_count": 22,
   "id": "cbd0cd49",
   "metadata": {},
   "outputs": [
    {
     "name": "stdout",
     "output_type": "stream",
     "text": [
      "25\n"
     ]
    }
   ],
   "source": [
    "def sum(num1 , num2):\n",
    "    return num1 + num2  \n",
    "print(sum(10, sum(10, 5)))"
   ]
  },
  {
   "cell_type": "code",
   "execution_count": 24,
   "id": "89386b6b",
   "metadata": {},
   "outputs": [
    {
     "name": "stdout",
     "output_type": "stream",
     "text": [
      "None\n"
     ]
    }
   ],
   "source": [
    "def sum(num1, num2):\n",
    "    def another_func(num1, num2):\n",
    "        return num1 + num2\n",
    "\n",
    "total = sum(10, 20)\n",
    "print(total)"
   ]
  },
  {
   "cell_type": "code",
   "execution_count": 25,
   "id": "e51acbd7",
   "metadata": {},
   "outputs": [
    {
     "name": "stdout",
     "output_type": "stream",
     "text": [
      "<function sum.<locals>.another_func at 0x000001CA9A0D9310>\n"
     ]
    }
   ],
   "source": [
    "def sum(num1, num2):\n",
    "    def another_func(num1, num2):\n",
    "        return num1 + num2\n",
    "    return another_func\n",
    "\n",
    "total = sum(10, 20)\n",
    "print(total)"
   ]
  },
  {
   "cell_type": "code",
   "execution_count": 26,
   "id": "b3764c36",
   "metadata": {},
   "outputs": [
    {
     "name": "stdout",
     "output_type": "stream",
     "text": [
      "30\n"
     ]
    }
   ],
   "source": [
    "def sum(num1, num2):\n",
    "    def another_func(num1, num2):\n",
    "        return num1 + num2\n",
    "    return another_func\n",
    "\n",
    "total = sum(10, 20)\n",
    "print(total(10, 20))"
   ]
  },
  {
   "cell_type": "code",
   "execution_count": 27,
   "id": "45442387",
   "metadata": {},
   "outputs": [
    {
     "name": "stdout",
     "output_type": "stream",
     "text": [
      "30\n"
     ]
    }
   ],
   "source": [
    "def sum(num1, num2):\n",
    "    def another_func(num1, num2):\n",
    "        return num1 + num2\n",
    "    return another_func(num1, num2)\n",
    "\n",
    "total = sum(10, 20)\n",
    "print(total)"
   ]
  }
 ],
 "metadata": {
  "kernelspec": {
   "display_name": "Python 3 (ipykernel)",
   "language": "python",
   "name": "python3"
  },
  "language_info": {
   "codemirror_mode": {
    "name": "ipython",
    "version": 3
   },
   "file_extension": ".py",
   "mimetype": "text/x-python",
   "name": "python",
   "nbconvert_exporter": "python",
   "pygments_lexer": "ipython3",
   "version": "3.9.13"
  }
 },
 "nbformat": 4,
 "nbformat_minor": 5
}
