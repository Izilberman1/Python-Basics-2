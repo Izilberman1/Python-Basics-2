{
 "cells": [
  {
   "cell_type": "code",
   "execution_count": 11,
   "id": "83d9042d",
   "metadata": {},
   "outputs": [
    {
     "name": "stdout",
     "output_type": "stream",
     "text": [
      "10\n"
     ]
    }
   ],
   "source": [
    "def highest_even(list):\n",
    "    evens = []\n",
    "    for number in list:\n",
    "        if number %2 == 0:\n",
    "            evens.append(number)\n",
    "            \n",
    "    return max(evens)\n",
    "    \n",
    "print(highest_even([10,2,3,4,8,11]))"
   ]
  },
  {
   "cell_type": "code",
   "execution_count": null,
   "id": "aa85b16b",
   "metadata": {},
   "outputs": [],
   "source": []
  }
 ],
 "metadata": {
  "kernelspec": {
   "display_name": "Python 3 (ipykernel)",
   "language": "python",
   "name": "python3"
  },
  "language_info": {
   "codemirror_mode": {
    "name": "ipython",
    "version": 3
   },
   "file_extension": ".py",
   "mimetype": "text/x-python",
   "name": "python",
   "nbconvert_exporter": "python",
   "pygments_lexer": "ipython3",
   "version": "3.9.13"
  }
 },
 "nbformat": 4,
 "nbformat_minor": 5
}
