{
 "cells": [
  {
   "cell_type": "code",
   "execution_count": 8,
   "id": "7af3e551",
   "metadata": {},
   "outputs": [
    {
     "name": "stdout",
     "output_type": "stream",
     "text": [
      "   *   \n",
      "  ***  \n",
      " ***** \n",
      "*******\n",
      "   *   \n",
      "   *   \n"
     ]
    }
   ],
   "source": [
    "picture = [\n",
    "    [0,0,0,1,0,0,0],\n",
    "    [0,0,1,1,1,0,0],\n",
    "    [0,1,1,1,1,1,0],\n",
    "    [1,1,1,1,1,1,1],\n",
    "    [0,0,0,1,0,0,0],\n",
    "    [0,0,0,1,0,0,0]\n",
    "]\n",
    "\n",
    "#1.iterate over picture.\n",
    "for row in picture:\n",
    "    for pixel in row:\n",
    "        #3. if 1 -> print *\n",
    "        if(pixel == 1):\n",
    "            print('*', end='')\n",
    "        #2. if 0 -> print ''\n",
    "        else:\n",
    "            print(' ', end='')\n",
    "    print('')\n",
    "   \n",
    "  "
   ]
  },
  {
   "cell_type": "code",
   "execution_count": 11,
   "id": "797de00a",
   "metadata": {},
   "outputs": [
    {
     "name": "stdout",
     "output_type": "stream",
     "text": [
      "$\n",
      "$$$\n",
      "$$$$$\n",
      "$$$$$$$\n",
      "$\n",
      "$\n"
     ]
    }
   ],
   "source": [
    "fill = '$'\n",
    "empty = ''\n",
    "#1.iterate over picture.\n",
    "for row in picture:\n",
    "    for pixel in row:\n",
    "        #3. if 1 -> print *\n",
    "        if pixel:\n",
    "            print(fill, end='')\n",
    "        #2. if 0 -> print ''\n",
    "        else:\n",
    "            print(empty, end='')\n",
    "    print('')"
   ]
  },
  {
   "cell_type": "code",
   "execution_count": null,
   "id": "2edb9a4d",
   "metadata": {},
   "outputs": [],
   "source": []
  }
 ],
 "metadata": {
  "kernelspec": {
   "display_name": "Python 3 (ipykernel)",
   "language": "python",
   "name": "python3"
  },
  "language_info": {
   "codemirror_mode": {
    "name": "ipython",
    "version": 3
   },
   "file_extension": ".py",
   "mimetype": "text/x-python",
   "name": "python",
   "nbconvert_exporter": "python",
   "pygments_lexer": "ipython3",
   "version": "3.9.13"
  }
 },
 "nbformat": 4,
 "nbformat_minor": 5
}
