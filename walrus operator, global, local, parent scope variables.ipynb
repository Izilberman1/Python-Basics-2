{
 "cells": [
  {
   "cell_type": "code",
   "execution_count": 2,
   "id": "f47b373c",
   "metadata": {},
   "outputs": [
    {
     "name": "stdout",
     "output_type": "stream",
     "text": [
      "too long 14 elements\n"
     ]
    }
   ],
   "source": [
    "# := \n",
    "\n",
    "a = 'helloooooooooo'\n",
    "\n",
    "if (len(a) > 10):\n",
    "    print(f\"too long {len(a)} elements\")"
   ]
  },
  {
   "cell_type": "code",
   "execution_count": 3,
   "id": "146e86a6",
   "metadata": {},
   "outputs": [
    {
     "name": "stdout",
     "output_type": "stream",
     "text": [
      "too long 14 elements\n"
     ]
    }
   ],
   "source": [
    "# := can assign values to variables as part of a larger expression.\n",
    "\n",
    "a = 'helloooooooooo'\n",
    "\n",
    "if ((n:= len(a)) > 10):#n:= (Walrus Operator) is going to equal len(a)\n",
    "    print(f\"too long {n} elements\")#now we can just write n."
   ]
  },
  {
   "cell_type": "code",
   "execution_count": 7,
   "id": "98004882",
   "metadata": {},
   "outputs": [
    {
     "name": "stdout",
     "output_type": "stream",
     "text": [
      "too long 14 elements\n",
      "14\n",
      "13\n",
      "12\n",
      "11\n",
      "10\n",
      "9\n",
      "8\n",
      "7\n",
      "6\n",
      "5\n",
      "4\n",
      "3\n",
      "2\n"
     ]
    }
   ],
   "source": [
    "# := can assign values to variables as part of a larger expression.\n",
    "\n",
    "a = 'helloooooooooo'\n",
    "\n",
    "if ((n:= len(a)) > 10):#n:= (Walrus Operator) is going to equal len(a)\n",
    "    print(f\"too long {n} elements\")#now we can just write n.\n",
    "    \n",
    "while ((n := len(a)) > 1):\n",
    "       print(n)\n",
    "       a = a[:-1]"
   ]
  },
  {
   "cell_type": "code",
   "execution_count": 8,
   "id": "bf100956",
   "metadata": {},
   "outputs": [
    {
     "ename": "NameError",
     "evalue": "name 'name' is not defined",
     "output_type": "error",
     "traceback": [
      "\u001b[1;31m---------------------------------------------------------------------------\u001b[0m",
      "\u001b[1;31mNameError\u001b[0m                                 Traceback (most recent call last)",
      "\u001b[1;32m~\\AppData\\Local\\Temp\\ipykernel_27188\\321618619.py\u001b[0m in \u001b[0;36m<module>\u001b[1;34m\u001b[0m\n\u001b[0;32m      1\u001b[0m \u001b[1;31m#Scope -> what variables do I have access to?\u001b[0m\u001b[1;33m\u001b[0m\u001b[1;33m\u001b[0m\u001b[0m\n\u001b[0;32m      2\u001b[0m \u001b[1;33m\u001b[0m\u001b[0m\n\u001b[1;32m----> 3\u001b[1;33m \u001b[0mprint\u001b[0m\u001b[1;33m(\u001b[0m\u001b[0mname\u001b[0m\u001b[1;33m(\u001b[0m\u001b[1;33m)\u001b[0m\u001b[1;33m)\u001b[0m\u001b[1;33m\u001b[0m\u001b[1;33m\u001b[0m\u001b[0m\n\u001b[0m",
      "\u001b[1;31mNameError\u001b[0m: name 'name' is not defined"
     ]
    }
   ],
   "source": [
    "#Scope -> what variables do I have access to?\n",
    "total = 100 #global scope -> anybody with access to this file has access\n",
    "#to this variable 'total=100'.\n",
    "print(name())"
   ]
  },
  {
   "cell_type": "code",
   "execution_count": 9,
   "id": "37090a24",
   "metadata": {},
   "outputs": [
    {
     "ename": "NameError",
     "evalue": "name 'total' is not defined",
     "output_type": "error",
     "traceback": [
      "\u001b[1;31m---------------------------------------------------------------------------\u001b[0m",
      "\u001b[1;31mNameError\u001b[0m                                 Traceback (most recent call last)",
      "\u001b[1;32m~\\AppData\\Local\\Temp\\ipykernel_27188\\938303100.py\u001b[0m in \u001b[0;36m<module>\u001b[1;34m\u001b[0m\n\u001b[0;32m      1\u001b[0m \u001b[1;32mdef\u001b[0m \u001b[0msome_func\u001b[0m\u001b[1;33m(\u001b[0m\u001b[1;33m)\u001b[0m\u001b[1;33m:\u001b[0m\u001b[1;33m\u001b[0m\u001b[1;33m\u001b[0m\u001b[0m\n\u001b[0;32m      2\u001b[0m     \u001b[0mtotal\u001b[0m \u001b[1;33m=\u001b[0m \u001b[1;36m100\u001b[0m\u001b[1;33m\u001b[0m\u001b[1;33m\u001b[0m\u001b[0m\n\u001b[1;32m----> 3\u001b[1;33m \u001b[0mprint\u001b[0m\u001b[1;33m(\u001b[0m\u001b[0mtotal\u001b[0m\u001b[1;33m)\u001b[0m\u001b[1;33m\u001b[0m\u001b[1;33m\u001b[0m\u001b[0m\n\u001b[0m",
      "\u001b[1;31mNameError\u001b[0m: name 'total' is not defined"
     ]
    }
   ],
   "source": [
    "def some_func():\n",
    "    total = 100\n",
    "print(total)"
   ]
  },
  {
   "cell_type": "code",
   "execution_count": 10,
   "id": "2b79e4d7",
   "metadata": {},
   "outputs": [
    {
     "name": "stdout",
     "output_type": "stream",
     "text": [
      "10\n"
     ]
    }
   ],
   "source": [
    "if True:\n",
    "    x = 10\n",
    "    \n",
    "def some_func(): # function creates its own world that anything outside\n",
    "#of it cannot get access to (local scope).\n",
    "    total = 100\n",
    "\n",
    "print(x)"
   ]
  },
  {
   "cell_type": "code",
   "execution_count": 11,
   "id": "5bb9bc03",
   "metadata": {},
   "outputs": [
    {
     "name": "stdout",
     "output_type": "stream",
     "text": [
      "1\n",
      "5\n"
     ]
    }
   ],
   "source": [
    "#Scope -> what variables do I have access to?\n",
    "a = 1\n",
    "\n",
    "def confusion():\n",
    "    a = 5\n",
    "    return a\n",
    "\n",
    "print(a)\n",
    "print(confusion())"
   ]
  },
  {
   "cell_type": "code",
   "execution_count": 12,
   "id": "4570fe29",
   "metadata": {},
   "outputs": [
    {
     "name": "stdout",
     "output_type": "stream",
     "text": [
      "5\n",
      "1\n"
     ]
    }
   ],
   "source": [
    "#Scope -> what variables do I have access to?\n",
    "a = 1\n",
    "\n",
    "def confusion():\n",
    "    a = 5\n",
    "    return a\n",
    "\n",
    "print(confusion())\n",
    "print(a)"
   ]
  },
  {
   "cell_type": "code",
   "execution_count": 13,
   "id": "4863ff3d",
   "metadata": {},
   "outputs": [
    {
     "name": "stdout",
     "output_type": "stream",
     "text": [
      "1\n",
      "1\n"
     ]
    }
   ],
   "source": [
    "#Scope -> what variables do I have access to?\n",
    "a = 1\n",
    "def parent():\n",
    "    def confusion():\n",
    "        return a\n",
    "    return confusion()\n",
    "\n",
    "print(parent())\n",
    "print(a)\n",
    "\n",
    "#1. start with local scope\n",
    "#2. is there a parent scope?\n",
    "#3. Global scope"
   ]
  },
  {
   "cell_type": "code",
   "execution_count": 14,
   "id": "4241ae16",
   "metadata": {},
   "outputs": [
    {
     "name": "stdout",
     "output_type": "stream",
     "text": [
      "<built-in function sum>\n",
      "1\n"
     ]
    }
   ],
   "source": [
    "#Scope -> what variables do I have access to?\n",
    "a = 1\n",
    "def parent():\n",
    "    def confusion():\n",
    "        return sum #python function\n",
    "    return confusion()\n",
    "\n",
    "print(parent())\n",
    "print(a)\n",
    "\n",
    "#1. start with local scope\n",
    "#2. is there a parent scope?\n",
    "#3. Global scope\n",
    "#4. built in python functions."
   ]
  },
  {
   "cell_type": "code",
   "execution_count": 15,
   "id": "311dedff",
   "metadata": {},
   "outputs": [
    {
     "name": "stdout",
     "output_type": "stream",
     "text": [
      "300\n"
     ]
    }
   ],
   "source": [
    "a = 10\n",
    "def confusion(b): #parameters are part of local variables.\n",
    "    print(b)\n",
    "    a = 90\n",
    "    \n",
    "confusion(300) #able to use the parameter inside of the function but\n",
    "#cannot use it outside of the function."
   ]
  },
  {
   "cell_type": "code",
   "execution_count": 16,
   "id": "8b0fa94a",
   "metadata": {},
   "outputs": [
    {
     "name": "stdout",
     "output_type": "stream",
     "text": [
      "3\n"
     ]
    }
   ],
   "source": [
    "total = 0\n",
    "\n",
    "def count(total):\n",
    "    total += 1\n",
    "    return total\n",
    "\n",
    "print(count(count(count(total))))"
   ]
  },
  {
   "cell_type": "code",
   "execution_count": 18,
   "id": "44c27638",
   "metadata": {},
   "outputs": [
    {
     "name": "stdout",
     "output_type": "stream",
     "text": [
      "inner: nonlocal\n",
      "outer: nonlocal\n"
     ]
    }
   ],
   "source": [
    "#nonlocal -> new keyword in python 3\n",
    "#refers to the parent local: \n",
    "#I want to use a variable that is not a global\n",
    "#variable but is outside of the scope of my function.\n",
    "\n",
    "def outer():\n",
    "    x = \"local\"\n",
    "    def inner():\n",
    "        nonlocal x\n",
    "        x = \"nonlocal\"\n",
    "        print(\"inner:\", x)\n",
    "    \n",
    "    inner()\n",
    "    print(\"outer:\", x)\n",
    "\n",
    "outer()\n",
    "\n",
    "#1. we have ann outer function def outer()\n",
    "#and then we call the outer funcyion outer()\n",
    "#2. we have an x variable that is local \n",
    "#to the outer function x = \"local\"\n",
    "#3. inside of that we have an inner function\n",
    "#def inner()\n",
    "#4. we call inner function inner()\n",
    "#5. nonlocal x variable tells the interpretor\n",
    "#that we wish to use it but is in the outer function.\n",
    "#6. the interpretor jumps up a scope to the parent scope\n",
    "#to access this variable x = \"local\" and grabs it.\n",
    "\n",
    "#Scope is useful so that we do not clog up the computer's memory."
   ]
  },
  {
   "cell_type": "code",
   "execution_count": null,
   "id": "0f93d8c0",
   "metadata": {},
   "outputs": [],
   "source": []
  }
 ],
 "metadata": {
  "kernelspec": {
   "display_name": "Python 3 (ipykernel)",
   "language": "python",
   "name": "python3"
  },
  "language_info": {
   "codemirror_mode": {
    "name": "ipython",
    "version": 3
   },
   "file_extension": ".py",
   "mimetype": "text/x-python",
   "name": "python",
   "nbconvert_exporter": "python",
   "pygments_lexer": "ipython3",
   "version": "3.9.13"
  }
 },
 "nbformat": 4,
 "nbformat_minor": 5
}
