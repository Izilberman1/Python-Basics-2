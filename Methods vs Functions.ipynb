{
 "cells": [
  {
   "cell_type": "code",
   "execution_count": 1,
   "id": "86d11e19",
   "metadata": {},
   "outputs": [
    {
     "name": "stdout",
     "output_type": "stream",
     "text": [
      "!!!!\n"
     ]
    }
   ],
   "source": [
    "docstrings\n",
    "def test(a):\n",
    "    print(a)\n",
    "    \n",
    "test('!!!!')\n"
   ]
  },
  {
   "cell_type": "code",
   "execution_count": 16,
   "id": "afbfdd28",
   "metadata": {},
   "outputs": [
    {
     "name": "stdout",
     "output_type": "stream",
     "text": [
      "Help on function test in module __main__:\n",
      "\n",
      "test(a)\n",
      "    Info: this function tests and prints param a\n",
      "\n"
     ]
    }
   ],
   "source": [
    "docstrings\n",
    "def test(a):\n",
    "    '''\n",
    "    Info: this function tests and prints param a\n",
    "    '''\n",
    "    \n",
    "    print(a)\n",
    "\n",
    "help(test)#can use help to find out what a function does."
   ]
  },
  {
   "cell_type": "code",
   "execution_count": 27,
   "id": "2c22012f",
   "metadata": {},
   "outputs": [
    {
     "name": "stdout",
     "output_type": "stream",
     "text": [
      "False\n"
     ]
    }
   ],
   "source": [
    "#clean code (check for even or odd number Example)\n",
    "def is_even(num):\n",
    "    if num % 2 == 0:\n",
    "        return True\n",
    "    elif num % 2 != 0:\n",
    "        return False\n",
    "print(is_even(51))"
   ]
  },
  {
   "cell_type": "code",
   "execution_count": 30,
   "id": "45007eae",
   "metadata": {},
   "outputs": [
    {
     "name": "stdout",
     "output_type": "stream",
     "text": [
      "False\n"
     ]
    }
   ],
   "source": [
    "#clean code (check for even or odd number Example)\n",
    "def is_even(num):\n",
    "    if num % 2 == 0:\n",
    "        return True\n",
    "    return False\n",
    "print(is_even(51))"
   ]
  },
  {
   "cell_type": "code",
   "execution_count": 33,
   "id": "9e1ec052",
   "metadata": {},
   "outputs": [
    {
     "name": "stdout",
     "output_type": "stream",
     "text": [
      "False\n"
     ]
    }
   ],
   "source": [
    "#clean code (check for even or odd number Example)\n",
    "def is_even(num):\n",
    "   return num % 2 == 0\n",
    "print(is_even(51)) #you get the exact same results as you had before."
   ]
  },
  {
   "cell_type": "code",
   "execution_count": 34,
   "id": "274d7113",
   "metadata": {},
   "outputs": [
    {
     "name": "stdout",
     "output_type": "stream",
     "text": [
      "True\n"
     ]
    }
   ],
   "source": [
    "#clean code (check for even or odd number Example)\n",
    "def is_even(num):\n",
    "   return num % 2 == 0\n",
    "print(is_even(50)) #you get the exact same results as you had before."
   ]
  },
  {
   "cell_type": "code",
   "execution_count": 43,
   "id": "4df84d86",
   "metadata": {},
   "outputs": [
    {
     "name": "stdout",
     "output_type": "stream",
     "text": [
      "15\n"
     ]
    }
   ],
   "source": [
    "#*args **kwargs\n",
    "#by adding a *star we are saying that it can accept\n",
    "#any number of positional arguments.\n",
    "def super_func(*args):\n",
    "    return sum(args)\n",
    "\n",
    "print(super_func(1,2,3,4,5))"
   ]
  },
  {
   "cell_type": "code",
   "execution_count": 45,
   "id": "1c2e18ff",
   "metadata": {},
   "outputs": [
    {
     "name": "stdout",
     "output_type": "stream",
     "text": [
      "{'num1': 5, 'num2': 10}\n",
      "None\n"
     ]
    }
   ],
   "source": [
    "#*args **kwargs\n",
    "def super_func(*args, **kwargs):\n",
    "    print(kwargs)\n",
    "\n",
    "print(super_func(1,2,3,4,5, num1 = 5, num2 = 10))"
   ]
  },
  {
   "cell_type": "code",
   "execution_count": 48,
   "id": "73c6bf04",
   "metadata": {},
   "outputs": [
    {
     "name": "stdout",
     "output_type": "stream",
     "text": [
      "30\n"
     ]
    }
   ],
   "source": [
    "#*args **kwargs\n",
    "def super_func(*args, **kwargs):\n",
    "    total = 0\n",
    "    for items in kwargs.values():\n",
    "        total += items\n",
    "    return sum(args) + total \n",
    "\n",
    "print(super_func(1,2,3,4,5, num1 = 5, num2 = 10))\n",
    "\n",
    "#*args -> grabs any number of positional arguments \n",
    "#(the numbers in the super_func and sums them up)\n",
    "# **kwargs -> grabs any number of key word arguments \n",
    "#and get a dictionary which comes as key word arguments \n",
    "#and then use them however we want\n",
    "#(looping over all the values in for loop, \n",
    "#have a total and return the sum)\n",
    "\n",
    "#Rule: parameters, *args, default parameters,\n",
    "#**kwargs."
   ]
  },
  {
   "cell_type": "code",
   "execution_count": 49,
   "id": "8ea41c4a",
   "metadata": {},
   "outputs": [
    {
     "name": "stdout",
     "output_type": "stream",
     "text": [
      "30\n"
     ]
    }
   ],
   "source": [
    "#Rule: parameters, *args, default parameters,\n",
    "#**kwargs.\n",
    "def super_func(name, *args, i='hi', **kwargs):\n",
    "    total = 0\n",
    "    for items in kwargs.values():\n",
    "        total += items\n",
    "    return sum(args) + total \n",
    "\n",
    "print(super_func('Itamar', 1,2,3,4,5, num1 = 5, num2 = 10))"
   ]
  }
 ],
 "metadata": {
  "kernelspec": {
   "display_name": "Python 3 (ipykernel)",
   "language": "python",
   "name": "python3"
  },
  "language_info": {
   "codemirror_mode": {
    "name": "ipython",
    "version": 3
   },
   "file_extension": ".py",
   "mimetype": "text/x-python",
   "name": "python",
   "nbconvert_exporter": "python",
   "pygments_lexer": "ipython3",
   "version": "3.9.13"
  }
 },
 "nbformat": 4,
 "nbformat_minor": 5
}
